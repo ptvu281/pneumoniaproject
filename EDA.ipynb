{
 "cells": [
  {
   "cell_type": "code",
   "execution_count": 1,
   "metadata": {},
   "outputs": [],
   "source": [
    "import numpy as np # linear algebra\n",
    "import pandas as pd # data processing, CSV file I/O (e.g. pd.read_csv)\n",
    "import os\n",
    "from glob import glob\n",
    "%matplotlib inline\n",
    "import matplotlib.pyplot as plt\n",
    "import seaborn as sns\n",
    "\n",
    "##Import any other packages you may need here\n",
    "from random import sample\n",
    "\n",
    "from itertools import chain\n",
    "from random import sample \n",
    "import scipy\n",
    "from skimage.io import imread, imshow"
   ]
  },
  {
   "cell_type": "markdown",
   "metadata": {},
   "source": [
    "EDA is open-ended, and it is up to you to decide how to look at different ways to slice and dice your data. A good starting point is to look at the requirements for the FDA documentation in the final part of this project to guide (some) of the analyses you do. \n",
    "\n",
    "This EDA should also help to inform you of how pneumonia looks in the wild. E.g. what other types of diseases it's commonly found with, how often it is found, what ages it affects, etc. \n",
    "\n",
    "Note that this NIH dataset was not specifically acquired for pneumonia. So, while this is a representation of 'pneumonia in the wild,' the prevalence of pneumonia may be different if you were to take only chest x-rays that were acquired in an ER setting with suspicion of pneumonia. "
   ]
  },
  {
   "cell_type": "markdown",
   "metadata": {},
   "source": [
    "Perform the following EDA:\n",
    "* The patient demographic data such as gender, age, patient position,etc. (as it is available)\n",
    "* The x-ray views taken (i.e. view position)\n",
    "* The number of cases including: \n",
    "    * number of pneumonia cases,\n",
    "    * number of non-pneumonia cases\n",
    "* The distribution of other diseases that are comorbid with pneumonia\n",
    "* Number of disease per patient \n",
    "* Pixel-level assessments of the imaging data for healthy & disease states of interest (e.g. histograms of intensity values) and compare distributions across diseases.\n",
    "\n",
    "Note: use full NIH data to perform the first a few EDA items and use `sample_labels.csv` for the pixel-level assassements. "
   ]
  },
  {
   "cell_type": "markdown",
   "metadata": {},
   "source": [
    "Also, **describe your findings and how will you set up the model training based on the findings.**"
   ]
  },
  {
   "cell_type": "code",
   "execution_count": 2,
   "metadata": {},
   "outputs": [
    {
     "data": {
      "text/html": [
       "<div>\n",
       "<style scoped>\n",
       "    .dataframe tbody tr th:only-of-type {\n",
       "        vertical-align: middle;\n",
       "    }\n",
       "\n",
       "    .dataframe tbody tr th {\n",
       "        vertical-align: top;\n",
       "    }\n",
       "\n",
       "    .dataframe thead th {\n",
       "        text-align: right;\n",
       "    }\n",
       "</style>\n",
       "<table border=\"1\" class=\"dataframe\">\n",
       "  <thead>\n",
       "    <tr style=\"text-align: right;\">\n",
       "      <th></th>\n",
       "      <th>Image Index</th>\n",
       "      <th>Finding Labels</th>\n",
       "      <th>Follow-up #</th>\n",
       "      <th>Patient ID</th>\n",
       "      <th>Patient Age</th>\n",
       "      <th>Patient Gender</th>\n",
       "      <th>View Position</th>\n",
       "      <th>OriginalImageWidth</th>\n",
       "      <th>OriginalImageHeight</th>\n",
       "      <th>OriginalImagePixelSpacing_x</th>\n",
       "      <th>OriginalImagePixelSpacing_y</th>\n",
       "    </tr>\n",
       "  </thead>\n",
       "  <tbody>\n",
       "    <tr>\n",
       "      <th>566</th>\n",
       "      <td>00002919_004.png</td>\n",
       "      <td>Infiltration</td>\n",
       "      <td>4</td>\n",
       "      <td>2919</td>\n",
       "      <td>047Y</td>\n",
       "      <td>F</td>\n",
       "      <td>PA</td>\n",
       "      <td>2992</td>\n",
       "      <td>2991</td>\n",
       "      <td>0.143</td>\n",
       "      <td>0.143</td>\n",
       "    </tr>\n",
       "    <tr>\n",
       "      <th>1242</th>\n",
       "      <td>00006522_005.png</td>\n",
       "      <td>No Finding</td>\n",
       "      <td>5</td>\n",
       "      <td>6522</td>\n",
       "      <td>053Y</td>\n",
       "      <td>F</td>\n",
       "      <td>PA</td>\n",
       "      <td>2500</td>\n",
       "      <td>2048</td>\n",
       "      <td>0.168</td>\n",
       "      <td>0.168</td>\n",
       "    </tr>\n",
       "    <tr>\n",
       "      <th>402</th>\n",
       "      <td>00002106_001.png</td>\n",
       "      <td>Pneumothorax</td>\n",
       "      <td>1</td>\n",
       "      <td>2106</td>\n",
       "      <td>030Y</td>\n",
       "      <td>M</td>\n",
       "      <td>PA</td>\n",
       "      <td>2814</td>\n",
       "      <td>2991</td>\n",
       "      <td>0.143</td>\n",
       "      <td>0.143</td>\n",
       "    </tr>\n",
       "  </tbody>\n",
       "</table>\n",
       "</div>"
      ],
      "text/plain": [
       "           Image Index Finding Labels  Follow-up #  Patient ID Patient Age  \\\n",
       "566   00002919_004.png   Infiltration            4        2919        047Y   \n",
       "1242  00006522_005.png     No Finding            5        6522        053Y   \n",
       "402   00002106_001.png   Pneumothorax            1        2106        030Y   \n",
       "\n",
       "     Patient Gender View Position  OriginalImageWidth  OriginalImageHeight  \\\n",
       "566               F            PA                2992                 2991   \n",
       "1242              F            PA                2500                 2048   \n",
       "402               M            PA                2814                 2991   \n",
       "\n",
       "      OriginalImagePixelSpacing_x  OriginalImagePixelSpacing_y  \n",
       "566                         0.143                        0.143  \n",
       "1242                        0.168                        0.168  \n",
       "402                         0.143                        0.143  "
      ]
     },
     "execution_count": 2,
     "metadata": {},
     "output_type": "execute_result"
    }
   ],
   "source": [
    "## Below is some helper code to read data for you.\n",
    "## Load NIH data\n",
    "all_xray_df = pd.read_csv('/data/Data_Entry_2017.csv')\n",
    "all_xray_df.sample(3)\n",
    "\n",
    "## Load 'sample_labels.csv' data for pixel level assessments\n",
    "sample_df = pd.read_csv('sample_labels.csv')\n",
    "sample_df.sample(3)"
   ]
  },
  {
   "cell_type": "code",
   "execution_count": 41,
   "metadata": {},
   "outputs": [
    {
     "name": "stdout",
     "output_type": "stream",
     "text": [
      "All Labels (15): ['Atelectasis', 'Cardiomegaly', 'Consolidation', 'Edema', 'Effusion', 'Emphysema', 'Fibrosis', 'Hernia', 'Infiltration', 'Mass', 'No Finding', 'Nodule', 'Pleural_Thickening', 'Pneumonia', 'Pneumothorax']\n"
     ]
    },
    {
     "data": {
      "text/plain": [
       "[Text(0, 0.5, 'Number of Images with Label')]"
      ]
     },
     "execution_count": 41,
     "metadata": {},
     "output_type": "execute_result"
    },
    {
     "data": {
      "image/png": "[encoded data removed]",
      "text/plain": [
       "<Figure size 720x432 with 1 Axes>"
      ]
     },
     "metadata": {
      "needs_background": "light"
     },
     "output_type": "display_data"
    }
   ],
   "source": [
    "#Split up diagnoses\n",
    "all_labels = np.unique(list(chain(*all_xray_df['Finding Labels'].map(lambda x: x.split('|')).tolist())))\n",
    "all_labels = [x for x in all_labels if len(x)>0]\n",
    "print('All Labels ({}): {}'.format(len(all_labels), all_labels))\n",
    "for c_label in all_labels:\n",
    "    if len(c_label)>1: # leave out empty labels\n",
    "        all_xray_df[c_label] = all_xray_df['Finding Labels'].map(lambda finding: 1.0 if c_label in finding else 0)\n",
    "all_xray_df.sample(3)\n",
    "\n",
    "#Frequencies of diseases\n",
    "plt.figure(figsize=(10,6))\n",
    "ax = all_xray_df[all_labels].sum().plot(kind='bar')\n",
    "ax.set(ylabel = 'Number of Images with Label')"
   ]
  },
  {
   "cell_type": "code",
   "execution_count": 16,
   "metadata": {},
   "outputs": [
    {
     "data": {
      "text/plain": [
       "Text(0.5, 1.0, 'Follow-up #')"
      ]
     },
     "execution_count": 16,
     "metadata": {},
     "output_type": "execute_result"
    },
    {
     "data": {
      "image/png": "[encoded data removed]",
      "text/plain": [
       "<Figure size 432x432 with 1 Axes>"
      ]
     },
     "metadata": {
      "needs_background": "light"
     },
     "output_type": "display_data"
    },
    {
     "data": {
      "image/png": "[encoded data removed]",
      "text/plain": [
       "<Figure size 720x432 with 1 Axes>"
      ]
     },
     "metadata": {
      "needs_background": "light"
     },
     "output_type": "display_data"
    },
    {
     "data": {
      "image/png": "[encoded data removed]",
      "text/plain": [
       "<Figure size 432x432 with 1 Axes>"
      ]
     },
     "metadata": {
      "needs_background": "light"
     },
     "output_type": "display_data"
    }
   ],
   "source": [
    "#Demographics of dataset\n",
    "#Gender \n",
    "plt.figure(figsize=(6,6))\n",
    "all_xray_df['Patient Gender'].value_counts().plot(kind='bar')\n",
    "plt.title('Gender')\n",
    "\n",
    "#Age\n",
    "plt.figure(figsize=(10,6))\n",
    "plt.hist(all_xray_df['Patient Age'])\n",
    "plt.xlim(0, 130)\n",
    "plt.title('Age')\n",
    "\n",
    "#Patient position\n",
    "plt.figure(figsize=(6,6))\n",
    "plt.hist(all_xray_df['Follow-up #'])\n",
    "plt.title('Follow-up #')"
   ]
  },
  {
   "cell_type": "code",
   "execution_count": 17,
   "metadata": {},
   "outputs": [
    {
     "data": {
      "text/plain": [
       "Text(0.5, 1.0, 'Xray Position')"
      ]
     },
     "execution_count": 17,
     "metadata": {},
     "output_type": "execute_result"
    },
    {
     "data": {
      "image/png": "[encoded data removed]",
      "text/plain": [
       "<Figure size 432x288 with 1 Axes>"
      ]
     },
     "metadata": {
      "needs_background": "light"
     },
     "output_type": "display_data"
    }
   ],
   "source": [
    "plt.figure()\n",
    "all_xray_df['View Position'].value_counts().plot(kind='bar')\n",
    "plt.title('Xray Position')"
   ]
  },
  {
   "cell_type": "code",
   "execution_count": 28,
   "metadata": {},
   "outputs": [
    {
     "data": {
      "text/plain": [
       "Text(0.5, 1.0, 'Age')"
      ]
     },
     "execution_count": 28,
     "metadata": {},
     "output_type": "execute_result"
    },
    {
     "data": {
      "image/png": "[encoded data removed]",
      "text/plain": [
       "<Figure size 432x288 with 1 Axes>"
      ]
     },
     "metadata": {
      "needs_background": "light"
     },
     "output_type": "display_data"
    },
    {
     "data": {
      "image/png": "[encoded data removed]",
      "text/plain": [
       "<Figure size 432x432 with 1 Axes>"
      ]
     },
     "metadata": {
      "needs_background": "light"
     },
     "output_type": "display_data"
    },
    {
     "data": {
      "image/png": "[encoded data removed]",
      "text/plain": [
       "<Figure size 720x432 with 1 Axes>"
      ]
     },
     "metadata": {
      "needs_background": "light"
     },
     "output_type": "display_data"
    }
   ],
   "source": [
    "#Number of pneumonia cases\n",
    "plt.figure()\n",
    "all_xray_df['Pneumonia'].value_counts().plot(kind='bar')\n",
    "plt.xticks([0,1],['No Pneumonia','Pneumonia'])\n",
    "\n",
    "#Gender-pneumonia\n",
    "plt.figure(figsize=(6,6))\n",
    "all_xray_df[all_xray_df.Pneumonia==1]['Patient Gender'].value_counts().plot(kind='bar')\n",
    "plt.title('Gender')\n",
    "\n",
    "#Age-pneumonia\n",
    "plt.figure(figsize=(10,6))\n",
    "plt.hist(all_xray_df[all_xray_df.Pneumonia==1]['Patient Age'])\n",
    "plt.xlim(0, 130)\n",
    "plt.title('Age')"
   ]
  },
  {
   "cell_type": "code",
   "execution_count": 21,
   "metadata": {},
   "outputs": [
    {
     "data": {
      "text/plain": [
       "<matplotlib.axes._subplots.AxesSubplot at 0x7f5ee30da0d0>"
      ]
     },
     "execution_count": 21,
     "metadata": {},
     "output_type": "execute_result"
    },
    {
     "data": {
      "image/png": "[encoded data removed]",
      "text/plain": [
       "<Figure size 1152x432 with 1 Axes>"
      ]
     },
     "metadata": {
      "needs_background": "light"
     },
     "output_type": "display_data"
    }
   ],
   "source": [
    "#Comorbidity with pneumonia\n",
    "plt.figure(figsize=(16,6))\n",
    "all_xray_df[all_xray_df.Pneumonia==1]['Finding Labels'].value_counts()[0:30].plot(kind='bar')"
   ]
  },
  {
   "cell_type": "code",
   "execution_count": 25,
   "metadata": {},
   "outputs": [
    {
     "data": {
      "text/plain": [
       "<matplotlib.axes._subplots.AxesSubplot at 0x7f5ee3e2f590>"
      ]
     },
     "execution_count": 25,
     "metadata": {},
     "output_type": "execute_result"
    },
    {
     "data": {
      "image/png": "[encoded data removed]",
      "text/plain": [
       "<Figure size 432x288 with 1 Axes>"
      ]
     },
     "metadata": {
      "needs_background": "light"
     },
     "output_type": "display_data"
    }
   ],
   "source": [
    "#Number of diseases of each patient\n",
    "num_diseases = all_xray_df[all_labels].sum(axis=1)\n",
    "plt.figure()\n",
    "num_diseases.value_counts().plot(kind='bar')"
   ]
  },
  {
   "cell_type": "code",
   "execution_count": 3,
   "metadata": {},
   "outputs": [
    {
     "name": "stdout",
     "output_type": "stream",
     "text": [
      "Scans found: 112120 , Total Headers 112120\n"
     ]
    },
    {
     "data": {
      "text/plain": [
       "2869    /data/images_007/images/00014182_005.png\n",
       "899     /data/images_003/images/00004795_000.png\n",
       "2397    /data/images_006/images/00012089_010.png\n",
       "Name: path, dtype: object"
      ]
     },
     "execution_count": 3,
     "metadata": {},
     "output_type": "execute_result"
    }
   ],
   "source": [
    "#Pixel level assessment\n",
    "#Load sample images\n",
    "sample_image_paths = {os.path.basename(x): x for x in \n",
    "                   glob(os.path.join('/data','images*', '*', '*.png'))}\n",
    "print('Scans found:', len(sample_image_paths), ', Total Headers', all_xray_df.shape[0])\n",
    "sample_df['path'] = sample_df['Image Index'].map(sample_image_paths.get)\n",
    "sample_df['path'].sample(3)"
   ]
  },
  {
   "cell_type": "code",
   "execution_count": 4,
   "metadata": {},
   "outputs": [
    {
     "name": "stdout",
     "output_type": "stream",
     "text": [
      "All Labels (15): ['Atelectasis', 'Cardiomegaly', 'Consolidation', 'Edema', 'Effusion', 'Emphysema', 'Fibrosis', 'Hernia', 'Infiltration', 'Mass', 'No Finding', 'Nodule', 'Pleural_Thickening', 'Pneumonia', 'Pneumothorax']\n"
     ]
    },
    {
     "data": {
      "text/html": [
       "<div>\n",
       "<style scoped>\n",
       "    .dataframe tbody tr th:only-of-type {\n",
       "        vertical-align: middle;\n",
       "    }\n",
       "\n",
       "    .dataframe tbody tr th {\n",
       "        vertical-align: top;\n",
       "    }\n",
       "\n",
       "    .dataframe thead th {\n",
       "        text-align: right;\n",
       "    }\n",
       "</style>\n",
       "<table border=\"1\" class=\"dataframe\">\n",
       "  <thead>\n",
       "    <tr style=\"text-align: right;\">\n",
       "      <th></th>\n",
       "      <th>Image Index</th>\n",
       "      <th>Finding Labels</th>\n",
       "      <th>Follow-up #</th>\n",
       "      <th>Patient ID</th>\n",
       "      <th>Patient Age</th>\n",
       "      <th>Patient Gender</th>\n",
       "      <th>View Position</th>\n",
       "      <th>OriginalImageWidth</th>\n",
       "      <th>OriginalImageHeight</th>\n",
       "      <th>OriginalImagePixelSpacing_x</th>\n",
       "      <th>...</th>\n",
       "      <th>Emphysema</th>\n",
       "      <th>Fibrosis</th>\n",
       "      <th>Hernia</th>\n",
       "      <th>Infiltration</th>\n",
       "      <th>Mass</th>\n",
       "      <th>No Finding</th>\n",
       "      <th>Nodule</th>\n",
       "      <th>Pleural_Thickening</th>\n",
       "      <th>Pneumonia</th>\n",
       "      <th>Pneumothorax</th>\n",
       "    </tr>\n",
       "  </thead>\n",
       "  <tbody>\n",
       "    <tr>\n",
       "      <th>3909</th>\n",
       "      <td>00019271_013.png</td>\n",
       "      <td>Atelectasis|Infiltration</td>\n",
       "      <td>13</td>\n",
       "      <td>19271</td>\n",
       "      <td>054Y</td>\n",
       "      <td>M</td>\n",
       "      <td>AP</td>\n",
       "      <td>3056</td>\n",
       "      <td>2544</td>\n",
       "      <td>0.139</td>\n",
       "      <td>...</td>\n",
       "      <td>0.0</td>\n",
       "      <td>0.0</td>\n",
       "      <td>0.0</td>\n",
       "      <td>1.0</td>\n",
       "      <td>0.0</td>\n",
       "      <td>0.0</td>\n",
       "      <td>0.0</td>\n",
       "      <td>0.0</td>\n",
       "      <td>0.0</td>\n",
       "      <td>0.0</td>\n",
       "    </tr>\n",
       "    <tr>\n",
       "      <th>2254</th>\n",
       "      <td>00011579_007.png</td>\n",
       "      <td>No Finding</td>\n",
       "      <td>7</td>\n",
       "      <td>11579</td>\n",
       "      <td>057Y</td>\n",
       "      <td>M</td>\n",
       "      <td>AP</td>\n",
       "      <td>2500</td>\n",
       "      <td>2048</td>\n",
       "      <td>0.168</td>\n",
       "      <td>...</td>\n",
       "      <td>0.0</td>\n",
       "      <td>0.0</td>\n",
       "      <td>0.0</td>\n",
       "      <td>0.0</td>\n",
       "      <td>0.0</td>\n",
       "      <td>1.0</td>\n",
       "      <td>0.0</td>\n",
       "      <td>0.0</td>\n",
       "      <td>0.0</td>\n",
       "      <td>0.0</td>\n",
       "    </tr>\n",
       "    <tr>\n",
       "      <th>4867</th>\n",
       "      <td>00025603_007.png</td>\n",
       "      <td>Infiltration|Pneumothorax</td>\n",
       "      <td>7</td>\n",
       "      <td>25603</td>\n",
       "      <td>045Y</td>\n",
       "      <td>M</td>\n",
       "      <td>PA</td>\n",
       "      <td>2992</td>\n",
       "      <td>2991</td>\n",
       "      <td>0.143</td>\n",
       "      <td>...</td>\n",
       "      <td>0.0</td>\n",
       "      <td>0.0</td>\n",
       "      <td>0.0</td>\n",
       "      <td>1.0</td>\n",
       "      <td>0.0</td>\n",
       "      <td>0.0</td>\n",
       "      <td>0.0</td>\n",
       "      <td>0.0</td>\n",
       "      <td>0.0</td>\n",
       "      <td>1.0</td>\n",
       "    </tr>\n",
       "  </tbody>\n",
       "</table>\n",
       "<p>3 rows × 27 columns</p>\n",
       "</div>"
      ],
      "text/plain": [
       "           Image Index             Finding Labels  Follow-up #  Patient ID  \\\n",
       "3909  00019271_013.png   Atelectasis|Infiltration           13       19271   \n",
       "2254  00011579_007.png                 No Finding            7       11579   \n",
       "4867  00025603_007.png  Infiltration|Pneumothorax            7       25603   \n",
       "\n",
       "     Patient Age Patient Gender View Position  OriginalImageWidth  \\\n",
       "3909        054Y              M            AP                3056   \n",
       "2254        057Y              M            AP                2500   \n",
       "4867        045Y              M            PA                2992   \n",
       "\n",
       "      OriginalImageHeight  OriginalImagePixelSpacing_x  ...  Emphysema  \\\n",
       "3909                 2544                        0.139  ...        0.0   \n",
       "2254                 2048                        0.168  ...        0.0   \n",
       "4867                 2991                        0.143  ...        0.0   \n",
       "\n",
       "     Fibrosis  Hernia  Infiltration  Mass  No Finding  Nodule  \\\n",
       "3909      0.0     0.0           1.0   0.0         0.0     0.0   \n",
       "2254      0.0     0.0           0.0   0.0         1.0     0.0   \n",
       "4867      0.0     0.0           1.0   0.0         0.0     0.0   \n",
       "\n",
       "      Pleural_Thickening  Pneumonia  Pneumothorax  \n",
       "3909                 0.0        0.0           0.0  \n",
       "2254                 0.0        0.0           0.0  \n",
       "4867                 0.0        0.0           1.0  \n",
       "\n",
       "[3 rows x 27 columns]"
      ]
     },
     "execution_count": 4,
     "metadata": {},
     "output_type": "execute_result"
    }
   ],
   "source": [
    "#Split up diagnoses\n",
    "sample_labels = np.unique(list(chain(*sample_df['Finding Labels'].map(lambda x: x.split('|')).tolist())))\n",
    "sample_labels = [x for x in sample_labels if len(x)>0]\n",
    "print('All Labels ({}): {}'.format(len(sample_labels), sample_labels))\n",
    "for c_label in sample_labels:\n",
    "    if len(c_label)>1: # leave out empty labels\n",
    "        sample_df[c_label] = sample_df['Finding Labels'].map(lambda finding: 1.0 if c_label in finding else 0)\n",
    "sample_df.sample(3)"
   ]
  },
  {
   "cell_type": "code",
   "execution_count": 5,
   "metadata": {},
   "outputs": [],
   "source": [
    "sample_df['pixels'] = sample_df['path'].map(lambda path: imread(path).ravel())"
   ]
  },
  {
   "cell_type": "code",
   "execution_count": 6,
   "metadata": {},
   "outputs": [],
   "source": [
    "#Pneumonia intensity values\n",
    "pneumonia = []\n",
    "sample_pneumonia = sample_df[sample_df.Pneumonia==1]\n",
    "for pix in sample_pneumonia['pixels']:\n",
    "    new_pix = pix.copy()\n",
    "    new_pix = (new_pix - np.mean(new_pix))/np.std(new_pix)\n",
    "    pneumonia.extend(new_pix.ravel())"
   ]
  },
  {
   "cell_type": "code",
   "execution_count": 10,
   "metadata": {},
   "outputs": [
    {
     "data": {
      "text/plain": [
       "(array([2.387000e+03, 1.000000e+00, 1.630000e+02, 1.484000e+03,\n",
       "        3.392000e+03, 2.181000e+03, 9.700000e+02, 4.810000e+02,\n",
       "        7.010000e+02, 6.430000e+02, 8.630000e+02, 7.780000e+02,\n",
       "        1.024000e+03, 9.100000e+02, 2.346900e+04, 2.030000e+03,\n",
       "        3.540000e+03, 4.273000e+03, 6.969000e+03, 3.139000e+03,\n",
       "        6.119000e+03, 8.036000e+03, 8.117000e+03, 1.648600e+04,\n",
       "        4.879600e+04, 5.993500e+04, 5.323200e+04, 6.155100e+04,\n",
       "        2.335390e+05, 2.027510e+05, 2.993880e+05, 4.935220e+05,\n",
       "        8.475560e+05, 1.317110e+06, 9.864990e+05, 1.001711e+06,\n",
       "        1.309540e+06, 1.123189e+06, 1.458332e+06, 1.194594e+06,\n",
       "        1.198768e+06, 1.760697e+06, 1.515160e+06, 1.713310e+06,\n",
       "        1.783137e+06, 1.908116e+06, 2.070374e+06, 2.154186e+06,\n",
       "        2.353048e+06, 2.475126e+06, 2.599537e+06, 2.817096e+06,\n",
       "        2.765482e+06, 2.742622e+06, 2.836980e+06, 2.803275e+06,\n",
       "        2.876091e+06, 2.626376e+06, 3.506407e+06, 2.282529e+06,\n",
       "        2.219064e+06, 2.205389e+06, 1.891178e+06, 1.604727e+06,\n",
       "        1.227187e+06, 7.179360e+05, 4.224320e+05, 1.623390e+05,\n",
       "        7.871600e+04, 2.578900e+04, 9.268000e+03, 5.642000e+03,\n",
       "        2.113000e+03, 4.426000e+03, 3.050000e+02, 9.700000e+02,\n",
       "        1.034000e+03, 5.720000e+02, 1.500000e+01, 1.470000e+02,\n",
       "        3.640000e+02, 0.000000e+00, 1.000000e+00, 0.000000e+00,\n",
       "        1.000000e+00, 0.000000e+00, 1.000000e+00, 0.000000e+00,\n",
       "        2.000000e+00, 2.000000e+00, 0.000000e+00, 0.000000e+00,\n",
       "        0.000000e+00, 0.000000e+00, 0.000000e+00, 0.000000e+00,\n",
       "        0.000000e+00, 1.300000e+01, 0.000000e+00, 8.900000e+01]),\n",
       " array([-5.49704038, -5.38808237, -5.27912437, -5.17016637, -5.06120836,\n",
       "        -4.95225036, -4.84329236, -4.73433435, -4.62537635, -4.51641835,\n",
       "        -4.40746034, -4.29850234, -4.18954434, -4.08058633, -3.97162833,\n",
       "        -3.86267033, -3.75371233, -3.64475432, -3.53579632, -3.42683832,\n",
       "        -3.31788031, -3.20892231, -3.09996431, -2.9910063 , -2.8820483 ,\n",
       "        -2.7730903 , -2.66413229, -2.55517429, -2.44621629, -2.33725828,\n",
       "        -2.22830028, -2.11934228, -2.01038427, -1.90142627, -1.79246827,\n",
       "        -1.68351026, -1.57455226, -1.46559426, -1.35663625, -1.24767825,\n",
       "        -1.13872025, -1.02976224, -0.92080424, -0.81184624, -0.70288823,\n",
       "        -0.59393023, -0.48497223, -0.37601422, -0.26705622, -0.15809822,\n",
       "        -0.04914021,  0.05981779,  0.16877579,  0.2777338 ,  0.3866918 ,\n",
       "         0.4956498 ,  0.60460781,  0.71356581,  0.82252381,  0.93148182,\n",
       "         1.04043982,  1.14939782,  1.25835583,  1.36731383,  1.47627183,\n",
       "         1.58522984,  1.69418784,  1.80314584,  1.91210384,  2.02106185,\n",
       "         2.13001985,  2.23897785,  2.34793586,  2.45689386,  2.56585186,\n",
       "         2.67480987,  2.78376787,  2.89272587,  3.00168388,  3.11064188,\n",
       "         3.21959988,  3.32855789,  3.43751589,  3.54647389,  3.6554319 ,\n",
       "         3.7643899 ,  3.8733479 ,  3.98230591,  4.09126391,  4.20022191,\n",
       "         4.30917992,  4.41813792,  4.52709592,  4.63605393,  4.74501193,\n",
       "         4.85396993,  4.96292794,  5.07188594,  5.18084394,  5.28980195,\n",
       "         5.39875995]),\n",
       " <a list of 100 Patch objects>)"
      ]
     },
     "execution_count": 10,
     "metadata": {},
     "output_type": "execute_result"
    },
    {
     "data": {
      "image/png": "[encoded data removed]",
      "text/plain": [
       "<Figure size 432x288 with 1 Axes>"
      ]
     },
     "metadata": {
      "needs_background": "light"
     },
     "output_type": "display_data"
    }
   ],
   "source": [
    "plt.figure()\n",
    "plt.hist(pneumonia,bins=100)"
   ]
  },
  {
   "cell_type": "code",
   "execution_count": 8,
   "metadata": {},
   "outputs": [],
   "source": [
    "#No pneumonia intensity values\n",
    "no_pneumonia = []\n",
    "sample_no_pneumonia = sample_df[sample_df.Pneumonia==0].sample(60)\n",
    "for pix in sample_no_pneumonia['pixels']:\n",
    "    new_pix = pix.copy()\n",
    "    new_pix = (new_pix - np.mean(new_pix))/np.std(new_pix)\n",
    "    no_pneumonia.extend(new_pix.ravel())"
   ]
  },
  {
   "cell_type": "code",
   "execution_count": 11,
   "metadata": {},
   "outputs": [
    {
     "data": {
      "text/plain": [
       "(array([9.264000e+03, 2.660000e+02, 1.170000e+02, 1.140000e+02,\n",
       "        1.267700e+04, 1.758500e+04, 8.614000e+03, 9.372000e+03,\n",
       "        9.817400e+04, 4.077800e+04, 2.367100e+04, 2.513100e+04,\n",
       "        3.339800e+04, 9.976000e+04, 1.763320e+05, 2.434530e+05,\n",
       "        2.110140e+05, 2.779860e+05, 1.783000e+05, 1.982690e+05,\n",
       "        2.322880e+05, 4.849930e+05, 3.923490e+05, 5.038420e+05,\n",
       "        7.218460e+05, 7.383570e+05, 7.875800e+05, 1.068257e+06,\n",
       "        8.232860e+05, 1.081777e+06, 1.053580e+06, 1.120673e+06,\n",
       "        1.243136e+06, 1.353650e+06, 1.465698e+06, 2.053664e+06,\n",
       "        2.325136e+06, 1.740730e+06, 1.742664e+06, 1.802318e+06,\n",
       "        1.821198e+06, 1.907550e+06, 1.982687e+06, 2.097850e+06,\n",
       "        2.196576e+06, 2.209678e+06, 2.268545e+06, 2.314033e+06,\n",
       "        2.333780e+06, 2.264191e+06, 2.296422e+06, 2.095225e+06,\n",
       "        1.849950e+06, 1.753247e+06, 1.711096e+06, 1.705511e+06,\n",
       "        2.817881e+06, 1.486234e+06, 1.274694e+06, 1.003866e+06,\n",
       "        7.449500e+05, 5.699560e+05, 4.040010e+05, 2.201800e+05,\n",
       "        1.245730e+05, 6.641700e+04, 4.638100e+04, 3.364900e+04,\n",
       "        2.182300e+04, 1.836500e+04, 6.157000e+03, 3.989000e+03,\n",
       "        2.616000e+03, 2.503000e+03, 3.460000e+02, 4.250000e+02,\n",
       "        2.330000e+02, 2.130000e+02, 1.822000e+03, 1.240000e+02,\n",
       "        1.111000e+03, 9.000000e+00, 6.000000e+00, 4.000000e+00,\n",
       "        5.000000e+00, 4.000000e+00, 3.000000e+00, 5.000000e+00,\n",
       "        5.000000e+00, 2.000000e+00, 1.400000e+01, 0.000000e+00,\n",
       "        0.000000e+00, 0.000000e+00, 0.000000e+00, 0.000000e+00,\n",
       "        0.000000e+00, 0.000000e+00, 0.000000e+00, 8.400000e+01]),\n",
       " array([-3.94600383, -3.8548113 , -3.76361876, -3.67242623, -3.5812337 ,\n",
       "        -3.49004117, -3.39884864, -3.30765611, -3.21646358, -3.12527104,\n",
       "        -3.03407851, -2.94288598, -2.85169345, -2.76050092, -2.66930839,\n",
       "        -2.57811586, -2.48692333, -2.39573079, -2.30453826, -2.21334573,\n",
       "        -2.1221532 , -2.03096067, -1.93976814, -1.84857561, -1.75738307,\n",
       "        -1.66619054, -1.57499801, -1.48380548, -1.39261295, -1.30142042,\n",
       "        -1.21022789, -1.11903535, -1.02784282, -0.93665029, -0.84545776,\n",
       "        -0.75426523, -0.6630727 , -0.57188017, -0.48068764, -0.3894951 ,\n",
       "        -0.29830257, -0.20711004, -0.11591751, -0.02472498,  0.06646755,\n",
       "         0.15766008,  0.24885262,  0.34004515,  0.43123768,  0.52243021,\n",
       "         0.61362274,  0.70481527,  0.7960078 ,  0.88720034,  0.97839287,\n",
       "         1.0695854 ,  1.16077793,  1.25197046,  1.34316299,  1.43435552,\n",
       "         1.52554805,  1.61674059,  1.70793312,  1.79912565,  1.89031818,\n",
       "         1.98151071,  2.07270324,  2.16389577,  2.25508831,  2.34628084,\n",
       "         2.43747337,  2.5286659 ,  2.61985843,  2.71105096,  2.80224349,\n",
       "         2.89343603,  2.98462856,  3.07582109,  3.16701362,  3.25820615,\n",
       "         3.34939868,  3.44059121,  3.53178374,  3.62297628,  3.71416881,\n",
       "         3.80536134,  3.89655387,  3.9877464 ,  4.07893893,  4.17013146,\n",
       "         4.261324  ,  4.35251653,  4.44370906,  4.53490159,  4.62609412,\n",
       "         4.71728665,  4.80847918,  4.89967172,  4.99086425,  5.08205678,\n",
       "         5.17324931]),\n",
       " <a list of 100 Patch objects>)"
      ]
     },
     "execution_count": 11,
     "metadata": {},
     "output_type": "execute_result"
    },
    {
     "data": {
      "image/png": "[encoded data removed]",
      "text/plain": [
       "<Figure size 432x288 with 1 Axes>"
      ]
     },
     "metadata": {
      "needs_background": "light"
     },
     "output_type": "display_data"
    }
   ],
   "source": [
    "plt.figure()\n",
    "plt.hist(no_pneumonia,bins=100)"
   ]
  },
  {
   "cell_type": "code",
   "execution_count": null,
   "metadata": {},
   "outputs": [],
   "source": []
  }
 ],
 "metadata": {
  "kernelspec": {
   "display_name": "Python 3",
   "language": "python",
   "name": "python3"
  },
  "language_info": {
   "codemirror_mode": {
    "name": "ipython",
    "version": 3
   },
   "file_extension": ".py",
   "mimetype": "text/x-python",
   "name": "python",
   "nbconvert_exporter": "python",
   "pygments_lexer": "ipython3",
   "version": "3.7.6"
  }
 },
 "nbformat": 4,
 "nbformat_minor": 2
}
